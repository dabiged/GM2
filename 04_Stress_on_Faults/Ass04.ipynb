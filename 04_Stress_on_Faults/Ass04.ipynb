{
 "cells": [
  {
   "cell_type": "markdown",
   "metadata": {},
   "source": [
    "# Worksheet  Questions - Stress on Faults"
   ]
  },
  {
   "cell_type": "markdown",
   "metadata": {},
   "source": [
    "## a) Construct a Mohr circle diagram. \n",
    "Consider a normal faulting stress state with vertical\n",
    "stress $S_v$ = 42.55 MPa and hydrostatic pore pressure $P_p$ = 18.96 MPa. Chose an intermediate\n",
    "stress such that $\\phi$ = 1. Recall that $\\phi$ quantifies the relative differences between the three\n",
    "principal stresses.\n",
    "\n",
    "$$ \\phi = \\frac {S_2 - S_3} {S_1 - S_2}$$ \n",
    "\n",
    "On a Mohr diagram (e.g., Figure 1), plot effective stresses, $\\sigma_i = S_i - P_p$, where i = 1,2,3\n",
    "corresponds to the principal stresses. Plot the frictional failure line given by $\\tau = \\mu \\sigma_n$,\n",
    "where $\\tau$ is the shear stress, $\\sigma_n$ is the normal stress and $\\mu$ is the coefficient of sliding friction.\n",
    "Use $\\mu=0.6$, which corresponds to an intermediate value of clay + TOC of 25 wt%."
   ]
  },
  {
   "cell_type": "markdown",
   "metadata": {},
   "source": [
    "Normal Faulting Regime requires $S_{Hmin} < S_{Hmax} <S_v $"
   ]
  },
  {
   "cell_type": "code",
   "execution_count": 1,
   "metadata": {},
   "outputs": [],
   "source": [
    "import numpy as np\n",
    "from matplotlib import pyplot as plt\n",
    "import matplotlib"
   ]
  },
  {
   "cell_type": "code",
   "execution_count": 2,
   "metadata": {},
   "outputs": [],
   "source": [
    "Sv=42.55\n",
    "Pp=18.96\n",
    "mu=0.6"
   ]
  },
  {
   "cell_type": "markdown",
   "metadata": {},
   "source": [
    "$$\\frac{S_v-Pp}{S_{hmin}-P_p}=(\\sqrt{\\mu^2+1}+\\mu)^2$$"
   ]
  },
  {
   "cell_type": "markdown",
   "metadata": {},
   "source": [
    "$$S_{hmin}-P_p=\\frac{S_v-Pp}{(\\sqrt{\\mu^2+1}+\\mu)^2}$$"
   ]
  },
  {
   "cell_type": "markdown",
   "metadata": {},
   "source": [
    "$$S_{hmin}=\\frac{S_v-Pp}{(\\sqrt{\\mu^2+1}+\\mu)^2}+P_p$$"
   ]
  },
  {
   "cell_type": "code",
   "execution_count": 3,
   "metadata": {},
   "outputs": [],
   "source": [
    "SHmin=(((Sv-Pp)/(np.sqrt(mu**2+1)+mu)**2))+Pp"
   ]
  },
  {
   "cell_type": "code",
   "execution_count": 4,
   "metadata": {},
   "outputs": [
    {
     "data": {
      "text/plain": [
       "26.52228275214385"
      ]
     },
     "execution_count": 4,
     "metadata": {},
     "output_type": "execute_result"
    }
   ],
   "source": [
    "SHmin"
   ]
  },
  {
   "cell_type": "code",
   "execution_count": 5,
   "metadata": {},
   "outputs": [],
   "source": [
    "SHmax=(Sv+SHmin)/2"
   ]
  },
  {
   "cell_type": "code",
   "execution_count": 6,
   "metadata": {},
   "outputs": [
    {
     "data": {
      "text/plain": [
       "34.536141376071924"
      ]
     },
     "execution_count": 6,
     "metadata": {},
     "output_type": "execute_result"
    }
   ],
   "source": [
    "SHmax"
   ]
  },
  {
   "cell_type": "code",
   "execution_count": 7,
   "metadata": {},
   "outputs": [
    {
     "data": {
      "text/plain": [
       "3.1194284547628714"
      ]
     },
     "execution_count": 7,
     "metadata": {},
     "output_type": "execute_result"
    }
   ],
   "source": [
    "(Sv-Pp)/(SHmin-Pp)"
   ]
  },
  {
   "cell_type": "code",
   "execution_count": 8,
   "metadata": {},
   "outputs": [
    {
     "data": {
      "text/plain": [
       "1.0000000000000004"
      ]
     },
     "execution_count": 8,
     "metadata": {},
     "output_type": "execute_result"
    }
   ],
   "source": [
    "(SHmax-SHmin)/(Sv-SHmax)"
   ]
  },
  {
   "cell_type": "code",
   "execution_count": 9,
   "metadata": {},
   "outputs": [],
   "source": [
    "theta=np.arange(-90,0,1)\n",
    "sigma1=Sv-Pp\n",
    "sigma2=SHmax-Pp\n",
    "sigma3=SHmin-Pp\n",
    "t12=-0.5*(sigma1-sigma2)*np.sin(2*theta*np.pi/180)\n",
    "t23=-0.5*(sigma2-sigma3)*np.sin(2*theta*np.pi/180)\n",
    "t13=-0.5*(sigma1-sigma3)*np.sin(2*theta*np.pi/180)\n",
    "n12=0.5*(sigma1+sigma2)+0.5*(sigma1-sigma2)*np.cos(2*theta*np.pi/180)\n",
    "n23=0.5*(sigma2+sigma3)+0.5*(sigma2-sigma3)*np.cos(2*theta*np.pi/180)\n",
    "n13=0.5*(sigma1+sigma3)+0.5*(sigma1-sigma3)*np.cos(2*theta*np.pi/180)\n",
    "sigma_n_MC=np.arange(np.max(n13))\n",
    "tau_MC=0.6*sigma_n_MC"
   ]
  },
  {
   "cell_type": "code",
   "execution_count": 10,
   "metadata": {},
   "outputs": [
    {
     "data": {
      "image/png": "[encoded data removed]",
      "text/plain": [
       "<Figure size 432x288 with 1 Axes>"
      ]
     },
     "metadata": {
      "needs_background": "light"
     },
     "output_type": "display_data"
    }
   ],
   "source": [
    "plt.plot(n12,t12)\n",
    "plt.plot(n23,t23)\n",
    "plt.plot(n13,t13)\n",
    "plt.plot(sigma_n_MC,tau_MC)\n",
    "plt.xlabel(\"Normal Stress (MPa)\")\n",
    "plt.ylabel(\"Shear Stress (MPa)\")\n",
    "plt.ylim(0,np.max(n13))\n",
    "plt.show()"
   ]
  },
  {
   "cell_type": "markdown",
   "metadata": {},
   "source": [
    "## b) Plot the stress on fault planes.\n",
    "\n",
    "Assume S Hmax is orientated E-W (Strike = 90°). Consider the fault plane orientations in the table below.\n",
    "\n",
    "The shear and normal stress on each fault plane is called by first rotating the principal stresses into geographic coordinates and then to the fault coordinate system. The details of this method are provided in the reference below."
   ]
  },
  {
   "cell_type": "code",
   "execution_count": 11,
   "metadata": {},
   "outputs": [],
   "source": [
    "Strike=np.array([90,60,45,30,90])\n",
    "Dip=np.array([60,90,45,0,30])\n",
    "Shear=np.array([7.16,3.57,6.85,0,7.16])\n",
    "Normal=np.array([11.19,9.13,17.4,23.59,19.46])"
   ]
  },
  {
   "cell_type": "code",
   "execution_count": 12,
   "metadata": {},
   "outputs": [
    {
     "data": {
      "image/png": "[encoded data removed]",
      "text/plain": [
       "<Figure size 432x288 with 1 Axes>"
      ]
     },
     "metadata": {
      "needs_background": "light"
     },
     "output_type": "display_data"
    }
   ],
   "source": [
    "plt.plot(n12,t12)\n",
    "plt.plot(n23,t23)\n",
    "plt.plot(n13,t13)\n",
    "plt.plot(Normal[0],Shear[0],marker='o')\n",
    "plt.plot(Normal[1],Shear[1],marker='o')\n",
    "plt.plot(Normal[2],Shear[2],marker='o')\n",
    "plt.plot(Normal[3],Shear[3],marker='o')\n",
    "plt.plot(Normal[4],Shear[4],marker='o')\n",
    "plt.plot(sigma_n_MC,tau_MC)\n",
    "plt.xlabel(\"Normal Stress (MPa)\")\n",
    "plt.ylabel(\"Shear Stress (MPa)\")\n",
    "plt.ylim(0,np.max(n13))\n",
    "plt.show()"
   ]
  },
  {
   "cell_type": "markdown",
   "metadata": {},
   "source": [
    "## c) Calculate the Coulomb Failure Function. \n",
    "The Coulomb Failure Function (CFF) is a\n",
    "measure of how close faults are to failure $CFF = \\tau - \\mu \\sigma_n$ . Compute the CFF for each of\n",
    "the fault planes. Which of the fault planes is critically-stressed (most likely to be activated\n",
    "during stimulation)?"
   ]
  },
  {
   "cell_type": "code",
   "execution_count": 13,
   "metadata": {},
   "outputs": [],
   "source": [
    "CFF=Shear-mu*Normal"
   ]
  },
  {
   "cell_type": "markdown",
   "metadata": {},
   "source": [
    "If CFF is larger than zero the Fault is critically stressed."
   ]
  },
  {
   "cell_type": "code",
   "execution_count": 14,
   "metadata": {},
   "outputs": [
    {
     "data": {
      "text/plain": [
       "array([ True, False, False, False, False])"
      ]
     },
     "execution_count": 14,
     "metadata": {},
     "output_type": "execute_result"
    }
   ],
   "source": [
    "(CFF>0)"
   ]
  },
  {
   "cell_type": "code",
   "execution_count": 15,
   "metadata": {},
   "outputs": [
    {
     "data": {
      "text/plain": [
       "array([  0.446,  -1.908,  -3.59 , -14.154,  -4.516])"
      ]
     },
     "execution_count": 15,
     "metadata": {},
     "output_type": "execute_result"
    }
   ],
   "source": [
    "CFF"
   ]
  },
  {
   "cell_type": "markdown",
   "metadata": {},
   "source": [
    "## d) Shear stimulation of faults. \n",
    "Consider the effects of increasing pore pressure during hydraulic stimulation in terms of an actual fracture dataset. Refer to the file “HW4_Fracture Data.txt”, which contains a data similar to Table 1. The first two columns are the strike and dip of fracture planes. The next two columns are the shear and normal stresses acting on these fractures under hydrostatic pore pressure conditions (P p = 18.96 MPa). The two last columns are the shear and normal stresses acting on these faults after increasing the pore pressure by 3 MPa. \n",
    "\n",
    "Perform the same Mohr circle analysis and compute the CFF for each fracture. Now consider an increase in pore pressure of 3 MPa and repeat the analysis. How many fractures are likely to activated as a result of hydraulic stimulation?"
   ]
  },
  {
   "cell_type": "code",
   "execution_count": 16,
   "metadata": {},
   "outputs": [],
   "source": [
    "import pandas as pd"
   ]
  },
  {
   "cell_type": "code",
   "execution_count": 17,
   "metadata": {},
   "outputs": [],
   "source": [
    "data=pd.read_csv(\"GP208_HW4_Fracture_Data.txt\",delimiter=\"\\t\")\n",
    "data.columns=[\"strike\",\"dip\",\"shear_hydro\",\"normal_hydro\",\"shear_over\",\"normal_over\",\"unknown\"]"
   ]
  },
  {
   "cell_type": "code",
   "execution_count": 18,
   "metadata": {},
   "outputs": [],
   "source": [
    "strike=data.strike.values\n",
    "dip=data.dip.values\n",
    "shear_hydro=data.shear_hydro.values\n",
    "normal_hydro=data.normal_hydro.values\n",
    "shear_over=data.shear_over.values\n",
    "normal_over=data.normal_over.values"
   ]
  },
  {
   "cell_type": "code",
   "execution_count": 19,
   "metadata": {},
   "outputs": [],
   "source": [
    "CFF_hydro=shear_hydro-mu*normal_hydro\n",
    "CFF_over=shear_over-mu*normal_over"
   ]
  },
  {
   "cell_type": "code",
   "execution_count": 20,
   "metadata": {},
   "outputs": [
    {
     "data": {
      "text/plain": [
       "0"
      ]
     },
     "execution_count": 20,
     "metadata": {},
     "output_type": "execute_result"
    }
   ],
   "source": [
    "(CFF_hydro>0).sum()"
   ]
  },
  {
   "cell_type": "code",
   "execution_count": 21,
   "metadata": {},
   "outputs": [
    {
     "data": {
      "text/plain": [
       "154"
      ]
     },
     "execution_count": 21,
     "metadata": {},
     "output_type": "execute_result"
    }
   ],
   "source": [
    "(CFF_over>0).sum() "
   ]
  },
  {
   "cell_type": "markdown",
   "metadata": {},
   "source": [
    "# Assignment Questions"
   ]
  },
  {
   "cell_type": "markdown",
   "metadata": {},
   "source": [
    "## Question 1\n",
    "\n",
    "\n",
    "What is the value of the minimum horizontal stress (Shmin) in MPa? Enter the numerical value without units.\n",
    "\n"
   ]
  },
  {
   "cell_type": "markdown",
   "metadata": {},
   "source": [
    "Shmin cannot be lower than the Pp otherwise the earth would self hydro-fracture."
   ]
  },
  {
   "cell_type": "code",
   "execution_count": 22,
   "metadata": {},
   "outputs": [
    {
     "data": {
      "text/plain": [
       "26.52228275214385"
      ]
     },
     "execution_count": 22,
     "metadata": {},
     "output_type": "execute_result"
    }
   ],
   "source": [
    "SHmin"
   ]
  },
  {
   "cell_type": "markdown",
   "metadata": {},
   "source": [
    "What is the value of the maximum horizontal stress (SHmax) in MPa? Enter the numerical value without units."
   ]
  },
  {
   "cell_type": "markdown",
   "metadata": {},
   "source": [
    "In order to satisfy $\\phi = 1$ the maximum horizontal stress must lie halfway between $S_v$ and $S_Hmin$."
   ]
  },
  {
   "cell_type": "code",
   "execution_count": 23,
   "metadata": {},
   "outputs": [
    {
     "data": {
      "text/plain": [
       "34.536141376071924"
      ]
     },
     "execution_count": 23,
     "metadata": {},
     "output_type": "execute_result"
    }
   ],
   "source": [
    "SHmax"
   ]
  },
  {
   "cell_type": "markdown",
   "metadata": {},
   "source": [
    "## Question 2 \n",
    "\n",
    "\n",
    "What does φ = 1 signify?\n",
    "\n",
    "The intermediate principal stress is close to the maximum principal stress\n",
    "\n",
    "The intermediate principal stress is halfway between the maximum and minimum principal stresses correct\n",
    "\n",
    "The intermediate principal stress is close to the minimum principal stress "
   ]
  },
  {
   "cell_type": "markdown",
   "metadata": {},
   "source": [
    "* The intermediate principal stress is halfway between the maximum and minimum principal stresses correct\n"
   ]
  },
  {
   "cell_type": "markdown",
   "metadata": {},
   "source": [
    "## Question 3\n",
    "\n",
    "Which fault plane is critically-stressed (most likely to be activated during stimulation)?"
   ]
  },
  {
   "cell_type": "code",
   "execution_count": 24,
   "metadata": {},
   "outputs": [
    {
     "data": {
      "text/plain": [
       "1"
      ]
     },
     "execution_count": 24,
     "metadata": {},
     "output_type": "execute_result"
    }
   ],
   "source": [
    "np.argmax(CFF)+1"
   ]
  },
  {
   "cell_type": "markdown",
   "metadata": {},
   "source": [
    "Which fault plane has the lowest value of the Coulomb Failure Function (CFF)?\n"
   ]
  },
  {
   "cell_type": "code",
   "execution_count": 26,
   "metadata": {},
   "outputs": [
    {
     "data": {
      "text/plain": [
       "4"
      ]
     },
     "execution_count": 26,
     "metadata": {},
     "output_type": "execute_result"
    }
   ],
   "source": [
    "np.argmin(CFF)+1"
   ]
  },
  {
   "cell_type": "markdown",
   "metadata": {},
   "source": [
    "## Question 4\n",
    "\n",
    "How many fractures are activated in shear after increasing the pore pressure by 3 MPa?\n",
    "\n"
   ]
  },
  {
   "cell_type": "code",
   "execution_count": 27,
   "metadata": {},
   "outputs": [
    {
     "data": {
      "text/plain": [
       "154"
      ]
     },
     "execution_count": 27,
     "metadata": {},
     "output_type": "execute_result"
    }
   ],
   "source": [
    "(CFF_over>0).sum() "
   ]
  },
  {
   "cell_type": "markdown",
   "metadata": {},
   "source": [
    "What is the average value of the CFF for the fractures that exceed the Coulomb failure criterion?"
   ]
  },
  {
   "cell_type": "code",
   "execution_count": 28,
   "metadata": {},
   "outputs": [
    {
     "data": {
      "text/plain": [
       "0.7778013686792209"
      ]
     },
     "execution_count": 28,
     "metadata": {},
     "output_type": "execute_result"
    }
   ],
   "source": [
    "((CFF_over>0)*CFF_over).sum()/((CFF_over>0).sum() )"
   ]
  },
  {
   "cell_type": "code",
   "execution_count": null,
   "metadata": {},
   "outputs": [],
   "source": []
  }
 ],
 "metadata": {
  "kernelspec": {
   "display_name": "Python 3",
   "language": "python",
   "name": "python3"
  },
  "language_info": {
   "codemirror_mode": {
    "name": "ipython",
    "version": 3
   },
   "file_extension": ".py",
   "mimetype": "text/x-python",
   "name": "python",
   "nbconvert_exporter": "python",
   "pygments_lexer": "ipython3",
   "version": "3.7.3"
  }
 },
 "nbformat": 4,
 "nbformat_minor": 2
}
